{
  "nbformat": 4,
  "nbformat_minor": 0,
  "metadata": {
    "colab": {
      "provenance": []
    },
    "kernelspec": {
      "name": "python3",
      "display_name": "Python 3"
    },
    "language_info": {
      "name": "python"
    }
  },
  "cells": [
    {
      "cell_type": "markdown",
      "source": [
        "# Evaluating the Power of Large Language Models (LLMs) for Multimodal Time Series Forecasting\n",
        "\n",
        "## By Ryan Le, Manikant Thatipalli"
      ],
      "metadata": {
        "id": "UxvcFItSxrME"
      }
    },
    {
      "cell_type": "code",
      "execution_count": 89,
      "metadata": {
        "id": "DhQlnYJ5xf5r"
      },
      "outputs": [],
      "source": [
        "import numpy as np\n",
        "import pandas as pd\n",
        "import matplotlib.pyplot as plt\n",
        "import datetime\n"
      ]
    },
    {
      "cell_type": "code",
      "source": [
        "# TODO: Utility functions for data processing\n",
        "# TODO: Baseline model\n",
        "# TODO: LLM model\n",
        "# TODO: Experiment Setup\n",
        "# TODO: Performance Evaluation\n",
        "# TODO: Analysis and Reporting\n"
      ],
      "metadata": {
        "id": "Ee3IM2uqxzZD"
      },
      "execution_count": 90,
      "outputs": []
    },
    {
      "cell_type": "markdown",
      "source": [
        "# Data Processing"
      ],
      "metadata": {
        "id": "CPzGJcsYY4FA"
      }
    },
    {
      "cell_type": "code",
      "source": [
        "from ta.volatility import BollingerBands\n",
        "from ta.trend import CCIIndicator\n",
        "from ta.momentum import RSIIndicator, PercentagePriceOscillator\n",
        "import os\n",
        "\n",
        "\n",
        "# Testing on AAPL, MSFT, AMZN, INTC, and NVDA\n",
        "stock_list = ['AAPL', 'MSFT', 'AMZN', 'INTC', 'NVDA']\n",
        "start_date = '2000-01-01'\n",
        "end_date = '2016-12-31'\n",
        "\n",
        "# Hyperparams for calculating technical indicators\n",
        "sma_window = 10\n",
        "ppo_slow_ema = 26\n",
        "ppo_fast_ema = 12\n",
        "ppo_signal = 9"
      ],
      "metadata": {
        "id": "P9cUcaBpY5wF"
      },
      "execution_count": 91,
      "outputs": []
    },
    {
      "cell_type": "code",
      "source": [
        "# Technical indicators\n",
        "\n",
        "def process_data(stock_list, start_date, end_date):\n",
        "  # TODO: create new folder\n",
        "  folder_name = 'data'\n",
        "  try:\n",
        "      os.makedirs(folder_name, exist_ok=True)  # Use exist_ok=True to prevent an error if the folder already exists\n",
        "      print(f\"Directory '{folder_name}' created successfully.\")\n",
        "  except Exception as e:\n",
        "      print(f\"Failed to create directory '{folder_name}'. Error: {e}\")\n",
        "      return\n",
        "\n",
        "  for stock in stock_list:\n",
        "    df = pd.read_csv(f'{stock}.csv')\n",
        "    df = df.iloc[::-1]\n",
        "    df['date'] = pd.to_datetime(df['date'])\n",
        "    df = df[(df['date'] >= start_date) & (df['date'] <= end_date)]\n",
        "\n",
        "    # 10 day SMA\n",
        "\n",
        "    sma = df[\"adj close\"].rolling(window=sma_window).mean()\n",
        "    df[\"SMA\"] = sma\n",
        "\n",
        "    # Bollinger Bands\n",
        "    indicator_bb = BollingerBands(close=df[\"adj close\"])\n",
        "    df['BB%'] = (df['adj close'] - indicator_bb.bollinger_lband()) / (indicator_bb.bollinger_hband() - indicator_bb.bollinger_lband())\n",
        "\n",
        "    # RSI\n",
        "    rsi_indicator = RSIIndicator(close=df['adj close'])\n",
        "    df['RSI'] = rsi_indicator.rsi()\n",
        "\n",
        "    # CCI\n",
        "    cci_indicator = CCIIndicator(high=df['high'], low=df['low'], close=df['adj close'])\n",
        "    df['CCI'] = cci_indicator.cci()\n",
        "\n",
        "    # PPO and PPO Signal\n",
        "    indicator_ppo = PercentagePriceOscillator(df['adj close'], window_slow=ppo_slow_ema, window_fast=ppo_fast_ema, window_sign=ppo_signal)\n",
        "\n",
        "    # Create a DataFrame to store PPO and its signal line\n",
        "    df['PPO'] = indicator_ppo.ppo()\n",
        "    df['PPO_signal'] = indicator_ppo.ppo_signal()\n",
        "\n",
        "    # Get trading signal\n",
        "    df = assign_trading_signals(df)\n",
        "    df = df[[\"date\", \"adj close\", \"SMA\", \"BB%\", \"RSI\", \"CCI\", \"PPO\", \"PPO_signal\", \"Signal\"]]\n",
        "\n",
        "    file_path = os.path.join(folder_name, f\"{stock}_processed.csv\")\n",
        "    df.to_csv(file_path, index=False)\n",
        "\n",
        "def assign_trading_signals(df):\n",
        "  # Initialize a column for the signals, default to 2 (Hold)\n",
        "  df['Signal'] = 2  # 2 represents 'Hold'\n",
        "\n",
        "  # Iterate through DataFrame rows\n",
        "  for i in range(1, len(df)):\n",
        "    buy_signals = 0\n",
        "    sell_signals = 0\n",
        "\n",
        "    # PPO rule\n",
        "    if df['PPO'].iloc[i] > df['PPO_signal'].iloc[i] and df['PPO'].iloc[i-1] <= df['PPO_signal'].iloc[i-1]:\n",
        "      buy_signals += 1\n",
        "    elif df['PPO'].iloc[i] < df['PPO_signal'].iloc[i] and df['PPO'].iloc[i-1] >= df['PPO_signal'].iloc[i-1]:\n",
        "      sell_signals += 1\n",
        "\n",
        "    # CCI rule\n",
        "    if df['CCI'].iloc[i] > -100 and df['CCI'].iloc[i-1] <= -100:\n",
        "      buy_signals += 1\n",
        "    elif df['CCI'].iloc[i] < 100 and df['CCI'].iloc[i-1] >= 100:\n",
        "      sell_signals += 1\n",
        "\n",
        "    # Bollinger Bands % rule\n",
        "    if df['BB%'].iloc[i] > 0.2 and df['BB%'].iloc[i-1] <= 0.2:\n",
        "      buy_signals += 1\n",
        "    elif df['BB%'].iloc[i] < 0.8 and df['BB%'].iloc[i-1] >= 0.8:\n",
        "      sell_signals += 1\n",
        "\n",
        "    # RSI rule\n",
        "    if df['RSI'].iloc[i] > 30 and df['RSI'].iloc[i-1] <= 30:\n",
        "      buy_signals += 1\n",
        "    elif df['RSI'].iloc[i] < 70 and df['RSI'].iloc[i-1] >= 70:\n",
        "      sell_signals += 1\n",
        "\n",
        "    # Assign signals based on majority\n",
        "    if buy_signals > sell_signals:\n",
        "      df.loc[i, 'Signal'] = 0  # 0 represents 'Buy'\n",
        "    elif sell_signals > buy_signals:\n",
        "      df.loc[i, 'Signal'] = 1  # 1 represents 'Sell'\n",
        "  return df\n"
      ],
      "metadata": {
        "id": "O_FrK4KOZKMF"
      },
      "execution_count": 92,
      "outputs": []
    },
    {
      "cell_type": "code",
      "source": [
        "# Process CSV data and save as new CSV\n",
        "\n",
        "process_data(stock_list, start_date, end_date)"
      ],
      "metadata": {
        "colab": {
          "base_uri": "https://localhost:8080/"
        },
        "id": "Ct53aGdnaJm8",
        "outputId": "6655a1a2-b60a-401d-9a3f-208fe2f21814"
      },
      "execution_count": 93,
      "outputs": [
        {
          "output_type": "stream",
          "name": "stdout",
          "text": [
            "Directory 'data' created successfully.\n"
          ]
        }
      ]
    },
    {
      "cell_type": "code",
      "source": [],
      "metadata": {
        "id": "ykq1evTFaKnB"
      },
      "execution_count": null,
      "outputs": []
    }
  ]
}